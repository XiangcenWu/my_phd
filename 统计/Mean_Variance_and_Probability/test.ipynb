{
 "cells": [
  {
   "cell_type": "markdown",
   "metadata": {},
   "source": [
    "# V1 Mean, Variance, and Probability\n",
    "\n",
    "**mean $m$** is the average value or expected value\n",
    "\n",
    "**variance $\\sigma^2$** measures the average *square distance* from the mean $m$\n",
    "\n",
    "**Probabilities** of $n$ different outcomes are positive numbers $p_1, p_2, \\dots, p_n$ adding to 1\n",
    "\n",
    "\n",
    "\n",
    "<font size=5><center>Sample Mean</center></font>\n",
    "\n",
    "\n",
    "\n",
    "\n",
    "$$m = \\mu =  \\frac{1}{N}(x_1+x_2+\\dots+x_N) $$\n",
    "\n",
    "\n",
    "\n",
    "\n",
    "\n",
    "\n",
    "Also see Equation \\@ref(eq:mean).\n",
    "<font size=5><center>Expected Value</font></center>\n",
    "The expected value of $x$ starts from its corresponding probabilities\n",
    "$$\n",
    "m = E \\left[ x \\right] = p_1x_1 + p_2x_2 + \\dots + p_nx_n\n",
    "$$\n",
    "Note that $m = E\\left[x\\right]$ tells us waht we should expect while  $m=\\mu$ tells us what we got.\n",
    "<font size=5><center>Law of Large Numbers</font></center>\n",
    "With probability 1, the sample mean $\\mu$ will converge to its expected value $E\\left[x\\right]$ as the sample size $N$ increases\n",
    "\n",
    "# Variance (around the mean)\n",
    "The **Variance** $\\sigma^2$ measures expected distance (squared) from the expected mean $E\\left[x\\right]$\n",
    "\n",
    "The sample variance $S^2$ measures actual distance (squared) from the actual sample mean. The square root is the standard deviation $\\sigma$ or $S$\n",
    "\n",
    "<font size=5><center>Sample Variance</center></font>\n",
    "$$S^2 = \\frac{1}{N-1}\\left[(x_1-m)^2 + \\dots + (x_N - m)^2\\right]$$\n",
    "\n",
    "<font color=\"red\"> Please notice! Statisticians divide by $N - 1 = 4$ (and not N = 5) so that $S^2$ is an unbiased estimate of a $\\sigma^2$ One degree of freedom is already accounted for in the sample mean.</font>\n",
    "#### Split the equation\n",
    "$$ S^2 = \\frac{1}{N-1}\\left[\\sum_{i=1}^{n} (x_i - m)^2 \\right]$$\n",
    "$$ S^2 = \\frac{1}{N-1} \\left[\\sum_{i=1}^{n} (x_i)^2 - 2m\\sum_{i=1}^{n}x_i + \\sum_{i=1}^{n}m^2\\right]$$\n",
    "$$ S^2 = \\frac{1}{N-1} \\left[\\sum_{i=1}^{n} (x_i)^2 - 2m(Nm) + Nm^2\\right]$$\n",
    "$$ S^2 = \\frac{1}{N-1}\\left[\\sum_{i=1}^{n} x_i^2 - Nm^2\\right]$$\n",
    "\n",
    "<font size=5><center> Expected Variance<center></font>\n",
    "$$\\sigma^2 = E\\left[(x-m)^2\\right] = p_1(x_1-m)^2+\\dots+p_n(x_n-m)^2$$\n",
    "\n",
    "# Continous Probability Distributions\n",
    "\n",
    "$p(x)$ is a probability distributation for some whole continuous range of variable $x$\n",
    "\n",
    "$F(x)$ is the chance that a random variable is less that $x$, it is called the **cumulative distribution**\n",
    "\n",
    "$F(x)$ is the **cumulative distribution** and its derivative $p(x) = dF/dx$ is the **probability density function (pdf)**\n",
    "\n",
    "You could say that $p(x)dx$ is the probability of a sample falling in between $x$ and $x+dx$ and this is only \"infinitesimally true\" because $p(x)dx$ is $F(x+dx) - F(x)$ only works for dx that is infinitesimally small\n",
    "\n",
    "Probability of $p(a \\le x \\le b) = \\int_{a}^{b}p(x)dx=F(b)-F(a)$\n",
    "\n",
    "## Mean and Variance of $p(x)$ Continous variable\n",
    "\n",
    "<font size=5><center>Mean for a uniform distributation range from 17 to 20</center></font>\n",
    "$$m = E\\left[x\\right] = \\int_xp(x)dx = \\int_{17}^{20}(x)(\\frac{1}{3})dx = 18.5 $$\n",
    "\n",
    "## Variance for Continous variable\n",
    "$$ \\sigma^2 = E\\left[(x-m)^2\\right]=\\int p(x)(x-m)^2 dx $$"
   ]
  },
  {
   "cell_type": "code",
   "execution_count": 1,
   "metadata": {},
   "outputs": [
    {
     "name": "stdout",
     "output_type": "stream",
     "text": [
      "mean is 1.920\n",
      "variance is 9.114\n"
     ]
    }
   ],
   "source": [
    "import numpy as np\n",
    "\n",
    "def test_mean(loc=0, scale=1, n=10000):\n",
    "    value = 0\n",
    "    for i in range(n):\n",
    "        value += np.random.normal(loc, scale, 1)\n",
    "    mean = value.item()/n\n",
    "    print(\"mean is {:.3f}\".format(mean))\n",
    "\n",
    "    for i in range(n):\n",
    "        value += (np.random.normal(loc, scale, 1) - mean)**2\n",
    "    variance = np.sqrt(value.item()/n)\n",
    "    print(\"variance is {:.3f}\".format(variance))\n",
    "\n",
    "test_mean(2, 9)"
   ]
  },
  {
   "cell_type": "markdown",
   "metadata": {},
   "source": []
  }
 ],
 "metadata": {
  "interpreter": {
   "hash": "02580f3b40faffdca494a56716cab34cc74dfb88737f96a81a04d7c61a2f2be5"
  },
  "kernelspec": {
   "display_name": "Python 3.9.7 ('base')",
   "language": "python",
   "name": "python3"
  },
  "language_info": {
   "codemirror_mode": {
    "name": "ipython",
    "version": 3
   },
   "file_extension": ".py",
   "mimetype": "text/x-python",
   "name": "python",
   "nbconvert_exporter": "python",
   "pygments_lexer": "ipython3",
   "version": "3.9.7"
  },
  "orig_nbformat": 4
 },
 "nbformat": 4,
 "nbformat_minor": 2
}
